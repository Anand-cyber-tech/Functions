{
  "nbformat": 4,
  "nbformat_minor": 0,
  "metadata": {
    "colab": {
      "provenance": [],
      "gpuType": "T4"
    },
    "kernelspec": {
      "name": "python3",
      "display_name": "Python 3"
    },
    "language_info": {
      "name": "python"
    },
    "accelerator": "GPU"
  },
  "cells": [
    {
      "cell_type": "markdown",
      "source": [
        "#Functions\n",
        "1.What is the difference between a function and a method in pyhon?\n",
        ">-In python, a function is a standable block of codethat can be called multiple times from different parts of a program.A mwthod,on the other hand,is a function that is associated with a particular class or object."
      ],
      "metadata": {
        "id": "R6uhbyKlUQw5"
      }
    },
    {
      "cell_type": "markdown",
      "source": [
        "2.Explain the concept of function arguments and parameters in python.\n",
        ">-Function arguments are the values passed to a fuction when it is called.Function parameters are the variables defined in the function definition that recieve the argument values."
      ],
      "metadata": {
        "id": "Z_gT-i2NVKKH"
      }
    },
    {
      "cell_type": "markdown",
      "source": [
        "3.What are the different ways to define and call a function in python?\n",
        ">-Functions can be defined using the def keyword,and called using the function name followed by paranthese containing any required arguments."
      ],
      "metadata": {
        "id": "CsZVd62UV7GH"
      }
    },
    {
      "cell_type": "markdown",
      "source": [
        "4.What is the purpose of the returm statement in a python function?\n",
        ">-The return statement is used to exit a function and return a value to the caller."
      ],
      "metadata": {
        "id": "2qd4WKmhWkx_"
      }
    },
    {
      "cell_type": "markdown",
      "source": [
        "5.What are iterators in python and how do they differ from iterables?\n",
        ">-Iterables are objects that can be iterated over,such as lists or tuples.Iterators are objects that keep track of thecurrent position in an iterable."
      ],
      "metadata": {
        "id": "kn9IODbvXQO4"
      }
    },
    {
      "cell_type": "markdown",
      "source": [
        "6.Explain the concept of Generators in python and how they are defined.\n",
        ">-Generators are special types of functions that can be used to generate a sequence of values instead of computing them all at once and returning them in a list."
      ],
      "metadata": {
        "id": "RajjI4xjX9PK"
      }
    },
    {
      "cell_type": "markdown",
      "source": [
        "7.What are the advantages of using generators over regular functions?\n",
        ">-Generators are more memory efficient than regular functions and can be used to handle large data sets."
      ],
      "metadata": {
        "id": "xZdfcQfrYrpT"
      }
    },
    {
      "cell_type": "markdown",
      "source": [
        "8.What is a lambda function in python and when is it typically used?\n",
        ">-Lamda functions are small,anonymous functions that can be defined inline within a larger expression."
      ],
      "metadata": {
        "id": "kQtQQDtuZMpb"
      }
    },
    {
      "cell_type": "markdown",
      "source": [
        "9.Explain the purpose and usage of the map() function in python?\n",
        ">-The map() function applies a given function to each item iterable(such as a list or tuple)and returs a list of the results."
      ],
      "metadata": {
        "id": "Gc-nSuzRbkMD"
      }
    },
    {
      "cell_type": "markdown",
      "source": [
        "10.What is the difference between map(),reduce(),and filter() functions in python?\n",
        ">-The map() applies s function to each item of an iterable.reduce() applies a function to the first two items of an iterable,then to the result and the nex item and so on.filter() constructs an iterator from elements of an iterable for which a function returns true."
      ],
      "metadata": {
        "id": "kZ7nYxDGZywW"
      }
    },
    {
      "cell_type": "markdown",
      "source": [],
      "metadata": {
        "id": "943tWspEasGp"
      }
    },
    {
      "cell_type": "markdown",
      "source": [
        "11.Using pen and paper write the internal mechanism for sum operation using reduce function on this given list:[47,11,42,13].\n",
        ">-answer in google drive"
      ],
      "metadata": {
        "id": "1EDXFLxMat6p"
      }
    },
    {
      "cell_type": "markdown",
      "source": [
        "#Practical Questions\n",
        "1.Write a python function that takes a list of numbers as input and returns the sum of all even numbers as input and returns the sum of all even numbers in the list."
      ],
      "metadata": {
        "id": "i-rBcMlGfZUY"
      }
    },
    {
      "cell_type": "code",
      "source": [
        "def sum_even_numbers(numbers):\n",
        "    return sum(num for num in numbers if num%2==0)\n",
        "\n",
        "numbers=[1,2,3,4,5,6]\n",
        "result=(sum_even_numbers(numbers))\n",
        "print(\"The sum of even numbers is \",result)\n"
      ],
      "metadata": {
        "colab": {
          "base_uri": "https://localhost:8080/"
        },
        "id": "nOZnwyKKgN7y",
        "outputId": "db13579a-28f5-4feb-a9ea-5fa9cfa66e66"
      },
      "execution_count": null,
      "outputs": [
        {
          "output_type": "stream",
          "name": "stdout",
          "text": [
            "The sum of even numbers is  12\n"
          ]
        }
      ]
    },
    {
      "cell_type": "markdown",
      "source": [
        "2.Create a python function that accepts a string and returns the reverse of that string."
      ],
      "metadata": {
        "id": "wVjBa1YXiwb-"
      }
    },
    {
      "cell_type": "code",
      "source": [
        "def reverse_string(s):\n",
        "  return s[::-1]\n",
        "s=\"Hello World\"\n",
        "print(reverse_string(s))"
      ],
      "metadata": {
        "colab": {
          "base_uri": "https://localhost:8080/"
        },
        "id": "9X03RPSMjDmv",
        "outputId": "524af88a-79db-4742-a24b-2cd327a67d1b"
      },
      "execution_count": null,
      "outputs": [
        {
          "output_type": "stream",
          "name": "stdout",
          "text": [
            "dlroW olleH\n"
          ]
        }
      ]
    },
    {
      "cell_type": "markdown",
      "source": [
        "3.Implement a python function that takes a list of integers and returns a new list comtaining the squares of each number."
      ],
      "metadata": {
        "id": "rCbPNDx2jTu2"
      }
    },
    {
      "cell_type": "code",
      "source": [
        "def square_numbers(numbers):\n",
        "  return [num**2 for num in numbers]\n",
        "numbers=[1,2,3,4,5]\n",
        "print(square_numbers(numbers))"
      ],
      "metadata": {
        "colab": {
          "base_uri": "https://localhost:8080/"
        },
        "id": "Ou_jaH1OjsSO",
        "outputId": "2dd08251-1e02-4858-f5cb-1a51941e5c94"
      },
      "execution_count": null,
      "outputs": [
        {
          "output_type": "stream",
          "name": "stdout",
          "text": [
            "[1, 4, 9, 16, 25]\n"
          ]
        }
      ]
    },
    {
      "cell_type": "markdown",
      "source": [
        "4.write a python function that checks if a given number is prime or not from 1 to 200."
      ],
      "metadata": {
        "id": "CC8M5ZHXjzwD"
      }
    },
    {
      "cell_type": "code",
      "source": [
        "def check_prime(n):\n",
        "  if n<2:\n",
        "    return False\n",
        "  for i in range(2,int(n**0.5)+1):\n",
        "    if n%i==0:\n",
        "      return False\n",
        "  return True\n",
        "check_prime(2)"
      ],
      "metadata": {
        "colab": {
          "base_uri": "https://localhost:8080/"
        },
        "id": "fCVdthRLkE6c",
        "outputId": "21d9093d-51d0-4bc4-8867-072f71aa5d61"
      },
      "execution_count": null,
      "outputs": [
        {
          "output_type": "execute_result",
          "data": {
            "text/plain": [
              "True"
            ]
          },
          "metadata": {},
          "execution_count": 20
        }
      ]
    },
    {
      "cell_type": "markdown",
      "source": [
        "5.Create an iterator class in python that generates the fibonacci sequence up to a given exponent."
      ],
      "metadata": {
        "id": "DYWVwcKWkpxC"
      }
    },
    {
      "cell_type": "code",
      "source": [
        "class fibonacci_iterator:\n",
        "  def __init__(self,e):\n",
        "    self.e=e\n",
        "    self.a,self.b=0,1\n",
        "    self.i=0\n",
        "  def __iter__(self):\n",
        "    return self\n",
        "  def __next__(self):\n",
        "    if self.i<self.e:\n",
        "      result=self.a\n",
        "      self.a,self.b=self.b,self.a+self.b\n",
        "      self.i+=1\n",
        "      return result\n",
        "    else:\n",
        "      raise StopIteration\n",
        "fib_iterator=fibonacci_iterator(10)\n",
        "for num in fib_iterator:\n",
        "  print(num)"
      ],
      "metadata": {
        "colab": {
          "base_uri": "https://localhost:8080/"
        },
        "id": "7CoLehXtk-Nf",
        "outputId": "97b98b58-bb5f-40c3-c815-217a2ba71477"
      },
      "execution_count": null,
      "outputs": [
        {
          "output_type": "stream",
          "name": "stdout",
          "text": [
            "0\n",
            "1\n",
            "1\n",
            "2\n",
            "3\n",
            "5\n",
            "8\n",
            "13\n",
            "21\n",
            "34\n"
          ]
        }
      ]
    },
    {
      "cell_type": "markdown",
      "source": [
        "6.Write a generator function in python that yields the powers of 2 upto a given exponent."
      ],
      "metadata": {
        "id": "DcunlVstmzdY"
      }
    },
    {
      "cell_type": "code",
      "source": [
        "def power_of_two(e):\n",
        "  for i in range(e):\n",
        "    yield 2**i\n",
        "for num in power_of_two(5):\n",
        "  print(num)"
      ],
      "metadata": {
        "colab": {
          "base_uri": "https://localhost:8080/"
        },
        "id": "mn0dS-vvnGLl",
        "outputId": "bdf4990e-8385-4e7e-cfac-726ce6635e3f"
      },
      "execution_count": null,
      "outputs": [
        {
          "output_type": "stream",
          "name": "stdout",
          "text": [
            "1\n",
            "2\n",
            "4\n",
            "8\n",
            "16\n"
          ]
        }
      ]
    },
    {
      "cell_type": "markdown",
      "source": [
        "7.Implement a generator functon that reads a file line by line and yields each line as a string."
      ],
      "metadata": {
        "id": "aDgHh0pnnOCL"
      }
    },
    {
      "cell_type": "code",
      "source": [
        "def read_file_line_by_line(file_path):\n",
        "  with open(file_path,'r') as file:\n",
        "    for line in file:\n",
        "      yield line"
      ],
      "metadata": {
        "id": "SkOwwQc3ndWW"
      },
      "execution_count": null,
      "outputs": []
    },
    {
      "cell_type": "markdown",
      "source": [
        "8.Use a lambda function in python to sort a list tuples based on the second element."
      ],
      "metadata": {
        "id": "7F60kEzjn23l"
      }
    },
    {
      "cell_type": "code",
      "source": [
        "tuples_in_list=[(3,6),(1,9),(2,4)]\n",
        "sortedtplst=sorted(tuples_in_list,key=lambda x:x[1])\n",
        "print(sortedtplst)"
      ],
      "metadata": {
        "colab": {
          "base_uri": "https://localhost:8080/"
        },
        "id": "1R2u4sn8oJC_",
        "outputId": "285eb8f1-14e3-40d8-9e60-64778e0b5cab"
      },
      "execution_count": null,
      "outputs": [
        {
          "output_type": "stream",
          "name": "stdout",
          "text": [
            "[(2, 4), (3, 6), (1, 9)]\n"
          ]
        }
      ]
    },
    {
      "cell_type": "markdown",
      "source": [
        "9.Write a python program that uses map() to converta list of tempuratures from celsius to fahrenheit."
      ],
      "metadata": {
        "id": "hhK9aKuzow6X"
      }
    },
    {
      "cell_type": "code",
      "source": [
        "celsius_temps=[0,10,20,30,40]\n",
        "fahrenheit_temps=list(map(lambda x:(x*9/5)+32,celsius_temps))\n",
        "print(fahrenheit_temps)"
      ],
      "metadata": {
        "colab": {
          "base_uri": "https://localhost:8080/"
        },
        "id": "qid1kpIRpBvn",
        "outputId": "c15f4f14-d698-447c-c36f-9696494fac6c"
      },
      "execution_count": null,
      "outputs": [
        {
          "output_type": "stream",
          "name": "stdout",
          "text": [
            "[32.0, 50.0, 68.0, 86.0, 104.0]\n"
          ]
        }
      ]
    },
    {
      "cell_type": "markdown",
      "source": [
        "10.Create a python program using filter() to remove vowels from a string."
      ],
      "metadata": {
        "id": "DjJXzUqTpLHJ"
      }
    },
    {
      "cell_type": "code",
      "source": [
        "def remove_vowels(s):\n",
        "  vowels=['A','E','I','O','U','a','e','i','o','u']\n",
        "  return ''.join(filter(lambda x:x.lower() not in vowels,s))\n",
        "s=\"Hello World\"\n",
        "print(remove_vowels(s))"
      ],
      "metadata": {
        "colab": {
          "base_uri": "https://localhost:8080/"
        },
        "id": "vNZ96J44pcta",
        "outputId": "13ff2a09-d3b3-4bdb-a1f4-8272d9b0556b"
      },
      "execution_count": null,
      "outputs": [
        {
          "output_type": "stream",
          "name": "stdout",
          "text": [
            "Hll Wrld\n"
          ]
        }
      ]
    },
    {
      "cell_type": "markdown",
      "source": [
        "Imagine an accouning routine used in book shop.it works on a list with sublists,which look likethis:\n",
        "order Number=[34587,98762,77226,88112],\n",
        "Book Title and Author=[\"Learning Python,mark Lutz\",\"programming python,Mark Lutz\",\"Head First first python,Paul Barry\",\"Einfuhrung in python3,Bernd Klein\"],quatity=[4,5,3,3],\n",
        "price per item=[40.95,56.80,32.85,24.99].\n",
        "Write a python program,which returns a list with 2 tuples.each tuple consists of the order number and the product of the price per item and the quantity.The product should be increased by 10,-c if the value of the order is smaller than 10000 c."
      ],
      "metadata": {
        "id": "28FSg_a0rGnN"
      }
    },
    {
      "cell_type": "code",
      "source": [
        "data=[[34587,4,10.95],[98762,2,35.95]]\n",
        "result=list(map(lambda x:(x[0],x[1]*x[2]),data))\n",
        "print(result)"
      ],
      "metadata": {
        "colab": {
          "base_uri": "https://localhost:8080/"
        },
        "id": "wLP1Tl15svQx",
        "outputId": "81ab325a-f667-4e86-cf3b-18b29c01db83"
      },
      "execution_count": null,
      "outputs": [
        {
          "output_type": "stream",
          "name": "stdout",
          "text": [
            "[(34587, 43.8), (98762, 71.9)]\n"
          ]
        }
      ]
    }
  ]
}